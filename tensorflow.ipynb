{
 "cells": [
  {
   "cell_type": "markdown",
   "metadata": {},
   "source": [
    "# Tensorflow"
   ]
  },
  {
   "cell_type": "markdown",
   "metadata": {},
   "source": [
    "After using Numpy to build neural networks, now we will explore a deep learning framework that facilitates the implementation of DL algorithms. Machine learning frameworks like TensorFlow, PaddlePaddle, Torch, Caffe, Keras, and many others can speed up your machine learning development significantly. TensorFlow 2.3 has made significant improvements over its predecessor, some of which we'll encounter and implement here!\n",
    "\n",
    "This frameworks not only cut down on time spent coding, but can also perform optimizations that speed up the code itself. "
   ]
  },
  {
   "cell_type": "markdown",
   "metadata": {},
   "source": [
    "## Librarys"
   ]
  },
  {
   "cell_type": "code",
   "execution_count": 99,
   "metadata": {},
   "outputs": [
    {
     "data": {
      "text/plain": [
       "'2.16.1'"
      ]
     },
     "execution_count": 99,
     "metadata": {},
     "output_type": "execute_result"
    }
   ],
   "source": [
    "import tensorflow as tf\n",
    "import numpy as np\n",
    "import matplotlib.pyplot as plt\n",
    "\n",
    "tf.__version__"
   ]
  },
  {
   "cell_type": "markdown",
   "metadata": {},
   "source": [
    "## Basic Optimization with GradientTape\n",
    "\n",
    "The beauty of TensorFlow 2 is in its simplicity. Basically, all that is needed to do is implement forward propagation through a computational graph. TensorFlow will compute the derivatives for you, by moving backwards through the graph recorded with `GradientTape`. All that's left to do then is specify the cost function and optimizer to use. \n",
    "\n",
    "When writing a TensorFlow program, the main object to get used and transformed is the `tf.Tensor`. These tensors are the TensorFlow equivalent of Numpy arrays, i.e. multidimensional arrays of a given data type that also contain information about the computational graph.\n",
    "\n",
    "Below, we use `tf.Variable` to store the state of your variables. Variables can only be created once as its initial value defines the variable shape and type. Additionally, the `dtype` arg in `tf.Variable` can be set to allow data to be converted to that type. But if none is specified, either the datatype will be kept if the initial value is a Tensor, or `convert_to_tensor` will decide. It's generally best to specify directly, so nothing breaks."
   ]
  },
  {
   "cell_type": "code",
   "execution_count": 100,
   "metadata": {},
   "outputs": [],
   "source": [
    "def linear_function(W, X, b):\n",
    "    \"\"\"\n",
    "    Implements a linear function: \n",
    "            Initializes X to be a random tensor of shape (3,1)\n",
    "            Initializes W to be a random tensor of shape (4,3)\n",
    "            Initializes b to be a random tensor of shape (4,1)\n",
    "    Returns: \n",
    "    result -- Y = WX + b \n",
    "    \"\"\"\n",
    "\n",
    "    np.random.seed(1)\n",
    "\n",
    "#     X = tf.constant(np.random.randn(3, 1), name = \"X\")\n",
    "#     W = tf.constant(np.random.randn(4, 3), name = \"W\")\n",
    "#     b = tf.constant(np.random.randn(4, 1), name = \"X\")\n",
    "    \n",
    "    Y = tf.add(tf.matmul(W, X), b)\n",
    "    \n",
    "    return Y"
   ]
  },
  {
   "cell_type": "markdown",
   "metadata": {},
   "source": [
    "## Activation Functions"
   ]
  },
  {
   "cell_type": "code",
   "execution_count": 101,
   "metadata": {},
   "outputs": [],
   "source": [
    "def sigmoid(z):\n",
    "    \n",
    "    \"\"\"\n",
    "    Computes the sigmoid of z\n",
    "    \n",
    "    Arguments:\n",
    "    z -- input value, scalar or vector\n",
    "    \n",
    "    Returns: \n",
    "    a -- (tf.float32) the sigmoid of z\n",
    "    \"\"\"\n",
    "\n",
    "    z = tf.cast(z , tf.float32)\n",
    "    a = tf.keras.activations.sigmoid(z)\n",
    "\n",
    "    return a"
   ]
  },
  {
   "cell_type": "markdown",
   "metadata": {},
   "source": [
    "## One hot"
   ]
  },
  {
   "cell_type": "code",
   "execution_count": 102,
   "metadata": {},
   "outputs": [],
   "source": [
    "def one_hot_matrix(label, C=6):\n",
    "    \"\"\"\n",
    "    Computes the one hot encoding for a single label\n",
    "\n",
    "    Arguments:\n",
    "        label --  (int) Categorical labels\n",
    "        C --  (int) Number of different classes that label can take\n",
    "    \n",
    "    Returns:\n",
    "         one_hot -- tf.Tensor A one-dimensional tensor (array) with the one hot encoding.\n",
    "    \"\"\"\n",
    "\n",
    "    one_hot = tf.one_hot(label, depth=C)\n",
    "    \n",
    "    return one_hot"
   ]
  },
  {
   "cell_type": "markdown",
   "metadata": {},
   "source": [
    "## Initialize the parameters"
   ]
  },
  {
   "cell_type": "markdown",
   "metadata": {},
   "source": [
    "The function below takes in a shape and returns an array of numbers using the GlorotNormal initializer."
   ]
  },
  {
   "cell_type": "code",
   "execution_count": 103,
   "metadata": {},
   "outputs": [],
   "source": [
    "def initialize_parameters(input_size):\n",
    "    \"\"\"\n",
    "    Initializes parameters to build a neural network with TensorFlow. The shapes are:\n",
    "                        W1 : [25, input_size]\n",
    "                        b1 : [25, 1]\n",
    "                        W2 : [12, 25]\n",
    "                        b2 : [12, 1]\n",
    "                        W3 : [6, 12]\n",
    "                        b3 : [6, 1]\n",
    "    \n",
    "    Arguments:\n",
    "    input_size -- size of the input feature vector\n",
    "    \n",
    "    Returns:\n",
    "    parameters -- a dictionary of tensors containing W1, b1, W2, b2, W3, b3\n",
    "    \"\"\"\n",
    "                                \n",
    "    initializer = tf.keras.initializers.GlorotNormal(seed=1)   \n",
    "\n",
    "    W1 = tf.Variable(initializer(shape=(25, input_size)))\n",
    "    b1 = tf.Variable(initializer(shape=(25, 1)))\n",
    "    W2 = tf.Variable(initializer(shape=(12, 25)))\n",
    "    b2 = tf.Variable(initializer(shape=(12, 1)))\n",
    "    W3 = tf.Variable(initializer(shape=(9, 12)))\n",
    "    b3 = tf.Variable(initializer(shape=(9, 1)))\n",
    "\n",
    "    parameters = {\"W1\": W1,\n",
    "                  \"b1\": b1,\n",
    "                  \"W2\": W2,\n",
    "                  \"b2\": b2,\n",
    "                  \"W3\": W3,\n",
    "                  \"b3\": b3}\n",
    "    \n",
    "    return parameters\n"
   ]
  },
  {
   "cell_type": "markdown",
   "metadata": {},
   "source": [
    "## Forward propagation"
   ]
  },
  {
   "cell_type": "code",
   "execution_count": 104,
   "metadata": {},
   "outputs": [],
   "source": [
    "def forward_propagation(X, parameters):\n",
    "    \"\"\"\n",
    "    Implements the forward propagation for the model: LINEAR -> RELU -> LINEAR -> RELU -> LINEAR\n",
    "    \n",
    "    Arguments:\n",
    "    X -- input dataset placeholder, of shape (input size, number of examples)\n",
    "    parameters -- python dictionary containing your parameters \"W1\", \"b1\", \"W2\", \"b2\", \"W3\", \"b3\"\n",
    "                  the shapes are given in initialize_parameters\n",
    "\n",
    "    Returns:\n",
    "    Z3 -- the output of the last LINEAR unit\n",
    "    \"\"\"\n",
    "    \n",
    "    # Retrieve the parameters from the dictionary \"parameters\" \n",
    "    W1 = parameters['W1']\n",
    "    b1 = parameters['b1']\n",
    "    W2 = parameters['W2']\n",
    "    b2 = parameters['b2']\n",
    "    W3 = parameters['W3']\n",
    "    b3 = parameters['b3']\n",
    "    \n",
    "                                            # Numpy Equivalents (NumPy not to be used. Use TF API):\n",
    "    Z1 = tf.add(tf.matmul(W1, X), b1)       # Z1 = np.dot(W1, X) + b1\n",
    "    A1 = tf.keras.activations.relu(Z1)      # A1 = relu(Z1)\n",
    "    Z2 = tf.add(tf.matmul(W2, A1), b2)      # Z2 = np.dot(W2, A1) + b2\n",
    "    A2 = tf.keras.activations.relu(Z2)      # A2 = relu(Z2)\n",
    "    Z3 = tf.add(tf.matmul(W3, A2), b3)      # Z3 = np.dot(W3, A2) + b3\n",
    "    \n",
    "    return Z3"
   ]
  },
  {
   "cell_type": "markdown",
   "metadata": {},
   "source": [
    "### Compute the Total Loss\n",
    "\n",
    "For our case, since we have a multi classification problem, a categorical cross entropy will be used.\n",
    "\n",
    "Before we used to compute the cost value which sums the losses over the whole batch (i.e. all mini-batches) of samples, then divide the sum by the total number of samples. Here, you will achieve this in two steps. \n",
    "\n",
    "In step 1, the `compute_total_loss` function will only take care of summing the losses from one mini-batch of samples. Then, as you train the model by calling the `compute_total_loss` function once per mini-batch, step 2 will be done by accumulating the sums from each of the mini-batches, and finishing it with the division by the total number of samples to get the final cost value.\n",
    "\n",
    "Computing the \"total loss\" instead of \"mean loss\" in step 1 can make sure the final cost value to be consistent. For example, if the mini-batch size is 4 but there are just 5 samples in the whole batch, then the last mini-batch is going to have 1 sample only. Considering the 5 samples, losses to be [0, 1, 2, 3, 4] respectively, we know the final cost should be their average which is 2. Adopting the \"total loss\" approach will get us the same answer. However, the \"mean loss\" approach will first get us 1.5 and 4 for the two mini-batches, and then finally 2.75 after taking average of them, which is different from the desired result of 2. Therefore, the \"total loss\" approach is adopted here. \n",
    "\n",
    "To compute the loss: \n",
    "- The \"`y_pred`\" and \"`y_true`\" inputs of [tf.keras.losses.categorical_crossentropy](https://www.tensorflow.org/api_docs/python/tf/keras/losses/categorical_crossentropy) are expected to be of shape (number of examples, num_classes). \n",
    "\n",
    "- `tf.reduce_sum` does the summation over the examples.\n",
    "\n",
    "- We skipped applying \"softmax\" in `forwad_propagation` because now it will be taken care by the `tf.keras.losses.categorical_crossentropy` by setting its parameter `from_logits=True` (Explanation by one the DeepLearning.AI mentors [here](https://community.deeplearning.ai/t/week-3-assignment-compute-total-loss-try-to-set-from-logits-false/243049/2?u=paulinpaloalto) in the Community for the mathematical reasoning behind it. If you are not part of the Community already, you can do so by going [here](https://www.coursera.org/learn/deep-neural-network/ungradedLti/ZE1VR/important-have-questions-issues-or-ideas-join-our-community).)"
   ]
  },
  {
   "cell_type": "code",
   "execution_count": 105,
   "metadata": {},
   "outputs": [],
   "source": [
    "# Dentro da função compute_total_loss\n",
    "def compute_total_loss(logits, labels):\n",
    "    \"\"\"\n",
    "    Computes the total loss\n",
    "    \n",
    "    Arguments:\n",
    "    logits -- logits, output of the forward propagation (input of the final layer), shape (batch_size, num_classes)\n",
    "    labels -- true \"label\" vector (containing 0 if non-cat, 1 if cat), shape (batch_size, num_classes)\n",
    "    \n",
    "    Returns:\n",
    "    total_loss - Tensor of the total loss value\n",
    "    \"\"\"\n",
    "    # Transpose both logits and labels if needed\n",
    "    logits_transposed = tf.transpose(logits)\n",
    "    labels_transposed = tf.transpose(labels)\n",
    "\n",
    "    # Compute categorical crossentropy loss\n",
    "    loss = tf.keras.losses.categorical_crossentropy(labels_transposed, logits_transposed, from_logits=True)\n",
    "    \n",
    "    total_loss = tf.reduce_sum(loss)\n",
    "    \n",
    "    return total_loss\n"
   ]
  },
  {
   "cell_type": "markdown",
   "metadata": {},
   "source": [
    "**Note:** When using sum of losses for gradient computation, it’s important to reduce the learning rate as the size of the mini-batch increases. This ensures that we don’t take large steps towards minimum."
   ]
  },
  {
   "cell_type": "markdown",
   "metadata": {},
   "source": [
    "### Training the Model\n",
    "\n",
    "From the optimizers available, we need to specify the type of optimizer in one line, in this case `tf.keras.optimizers.Adam` (though you can use others such as SGD), and then call it within the training loop. \n",
    "\n",
    "Notice the `tape.gradient` function: this allows to retrieve the operations recorded for automatic differentiation inside the `GradientTape` block. Then, calling the optimizer method `apply_gradients`, will apply the optimizer's update rules to each trainable parameter. For more information, review the [documentation](https://www.tensorflow.org/api_docs/python/tf/GradientTape).\n",
    "\n",
    "\n",
    "One extra step that's been added to the batch training process is: \n",
    "\n",
    "- `tf.Data.dataset = dataset.prefetch(8)` \n",
    "\n",
    "What this does is prevent a memory bottleneck that can occur when reading from disk. `prefetch()` sets aside some data and keeps it ready for when it's needed. It does this by creating a source dataset from the input data, applying a transformation to preprocess the data, then iterating over the dataset the specified number of elements at a time. This works because the iteration is streaming, so the data doesn't need to fit into the memory. "
   ]
  },
  {
   "cell_type": "code",
   "execution_count": 106,
   "metadata": {},
   "outputs": [],
   "source": [
    "from dataset_utils import CIFAR10Dataset\n",
    "\n",
    "cifar10_path = 'datasets//cifar-10-batches-py/'\n",
    "\n",
    "classifier_multiclass = CIFAR10Dataset(cifar10_path, classification_type='multiclass', num_train_exem=3000, num_test_exem=600)\n",
    "\n",
    "# train_data_ds, train_labels_ds = classifier_multiclass.get_train_data(as_dataset=True)\n",
    "# test_data_ds, test_labels_ds = classifier_multiclass.get_test_data(as_dataset=True)\n"
   ]
  },
  {
   "cell_type": "code",
   "execution_count": 107,
   "metadata": {},
   "outputs": [],
   "source": [
    "train_data, train_labels = classifier_multiclass.get_train_data(as_dataset=False)\n",
    "test_data, test_labels = classifier_multiclass.get_test_data(as_dataset=False)"
   ]
  },
  {
   "cell_type": "code",
   "execution_count": 108,
   "metadata": {},
   "outputs": [
    {
     "data": {
      "image/png": "[encoded data removed]",
      "text/plain": [
       "<Figure size 1500x300 with 10 Axes>"
      ]
     },
     "metadata": {},
     "output_type": "display_data"
    }
   ],
   "source": [
    "classifier_multiclass.plot_random_images(10, data_type='test', label='all')"
   ]
  },
  {
   "cell_type": "code",
   "execution_count": 109,
   "metadata": {},
   "outputs": [
    {
     "name": "stdout",
     "output_type": "stream",
     "text": [
      "Number of training examples: 3000\n",
      "Number of testing examples: 600\n",
      "Each image is of size: (3072, 3072, 3)\n",
      "train_data shape: (3000, 3072)\n",
      "train_labels shape: (3000,)\n",
      "test_data shape: (600, 3072)\n",
      "test_labels shape: (600,)\n"
     ]
    }
   ],
   "source": [
    "m_train = train_data.shape[0]\n",
    "num_px = train_data.shape[1]\n",
    "m_test = test_data.shape[0]\n",
    "\n",
    "print (\"Number of training examples: \" + str(m_train))\n",
    "print (\"Number of testing examples: \" + str(m_test))\n",
    "print (\"Each image is of size: (\" + str(num_px) + \", \" + str(num_px) + \", 3)\")\n",
    "print (\"train_data shape: \" + str(train_data.shape))\n",
    "print (\"train_labels shape: \" + str(train_labels.shape))\n",
    "print (\"test_data shape: \" + str(test_data.shape))\n",
    "print (\"test_labels shape: \" + str(test_labels.shape))"
   ]
  },
  {
   "cell_type": "code",
   "execution_count": 110,
   "metadata": {},
   "outputs": [
    {
     "name": "stdout",
     "output_type": "stream",
     "text": [
      "train_x's shape: (3072, 3000)\n",
      "test_x's shape: (3072, 600)\n"
     ]
    }
   ],
   "source": [
    "# Reshape the training and test examples \n",
    "train_x_flatten = train_data.T   # The \"-1\" makes reshape flatten the remaining dimensions\n",
    "test_x_flatten = test_data.T\n",
    "\n",
    "# Standardize data to have feature values between 0 and 1.\n",
    "train_x = train_x_flatten/255.\n",
    "test_x = test_x_flatten/255.\n",
    "\n",
    "print (\"train_x's shape: \" + str(train_x.shape))\n",
    "print (\"test_x's shape: \" + str(test_x.shape))"
   ]
  },
  {
   "cell_type": "code",
   "execution_count": 111,
   "metadata": {},
   "outputs": [],
   "source": [
    "# m_train = tf.data.experimental.cardinality(train_data_ds).numpy()\n",
    "# num_px = next(iter(train_data_ds)).shape[0]\n",
    "# m_test = tf.data.experimental.cardinality(test_data_ds).numpy()\n",
    "\n",
    "# print(\"Number of training examples: \" + str(m_train))\n",
    "# print(\"Number of testing examples: \" + str(m_test))\n",
    "# print(\"Each image is of size: (\" + str(num_px) + \", \" + str(num_px) + \", 3)\")\n",
    "# print(\"train_data shape: \" + str((m_train, num_px, num_px, 3)))\n",
    "# print(\"train_labels shape: \" + str((m_train,)))\n",
    "# print(\"test_data shape: \" + str((m_test, num_px, num_px, 3)))\n",
    "# print(\"test_labels shape: \" + str((m_test,)))"
   ]
  },
  {
   "cell_type": "code",
   "execution_count": 112,
   "metadata": {},
   "outputs": [],
   "source": [
    "train_x = tf.data.Dataset.from_tensor_slices(train_data)\n",
    "test_x = tf.data.Dataset.from_tensor_slices(test_data)"
   ]
  },
  {
   "cell_type": "code",
   "execution_count": 114,
   "metadata": {},
   "outputs": [],
   "source": [
    "# # # Reshape the training and test examples \n",
    "# train_data_ds_transposed = tf.data.Dataset.from_tensor_slices(train_data_ds.map(lambda x: tf.transpose(x)))\n",
    "# test_data_ds_transposed = test_data_ds.map(lambda x: tf.transpose(x))"
   ]
  },
  {
   "cell_type": "code",
   "execution_count": 115,
   "metadata": {},
   "outputs": [],
   "source": [
    "def model(X_train, Y_train, X_test, Y_test, learning_rate = 0.0001,\n",
    "          num_epochs = 1500, minibatch_size = 32, print_cost = True):\n",
    "    \"\"\"\n",
    "    Implements a three-layer tensorflow neural network: LINEAR->RELU->LINEAR->RELU->LINEAR->SOFTMAX.\n",
    "    \n",
    "    Arguments:\n",
    "    X_train -- training set, of shape (input size = 12288, number of training examples = 1080)\n",
    "    Y_train -- test set, of shape (output size = 6, number of training examples = 1080)\n",
    "    X_test -- training set, of shape (input size = 12288, number of training examples = 120)\n",
    "    Y_test -- test set, of shape (output size = 6, number of test examples = 120)\n",
    "    learning_rate -- learning rate of the optimization\n",
    "    num_epochs -- number of epochs of the optimization loop\n",
    "    minibatch_size -- size of a minibatch\n",
    "    print_cost -- True to print the cost every 10 epochs\n",
    "    \n",
    "    Returns:\n",
    "    parameters -- parameters learnt by the model. They can then be used to predict.\n",
    "    \"\"\"\n",
    "    \n",
    "    costs = []                                        # To keep track of the cost\n",
    "    train_acc = []\n",
    "    test_acc = []\n",
    "    \n",
    "    # Initialize your parameters\n",
    "    #(1 line)\n",
    "    input_size = 3072\n",
    "    parameters = initialize_parameters(input_size)\n",
    "\n",
    "    W1 = parameters['W1']\n",
    "    b1 = parameters['b1']\n",
    "    W2 = parameters['W2']\n",
    "    b2 = parameters['b2']\n",
    "    W3 = parameters['W3']\n",
    "    b3 = parameters['b3']\n",
    "\n",
    "    optimizer = tf.keras.optimizers.Adam(learning_rate)\n",
    "    \n",
    "    # The CategoricalAccuracy will track the accuracy for this multiclass problem\n",
    "    test_accuracy = tf.keras.metrics.CategoricalAccuracy()\n",
    "    train_accuracy = tf.keras.metrics.CategoricalAccuracy()\n",
    "    \n",
    "    dataset = tf.data.Dataset.zip((X_train, Y_train))\n",
    "    test_dataset = tf.data.Dataset.zip((X_test, Y_test))\n",
    "    \n",
    "    # We can get the number of elements of a dataset using the cardinality method\n",
    "    m = dataset.cardinality().numpy()\n",
    "    \n",
    "    minibatches = dataset.batch(minibatch_size).prefetch(8)\n",
    "    test_minibatches = test_dataset.batch(minibatch_size).prefetch(8)\n",
    "    #X_train = X_train.batch(minibatch_size, drop_remainder=True).prefetch(8)# <<< extra step    \n",
    "    #Y_train = Y_train.batch(minibatch_size, drop_remainder=True).prefetch(8) # loads memory faster \n",
    "\n",
    "    # Do the training loop\n",
    "    for epoch in range(num_epochs):\n",
    "\n",
    "        epoch_total_loss = 0.\n",
    "        \n",
    "        #We need to reset object to start measuring from 0 the accuracy each epoch\n",
    "        train_accuracy.reset_state()\n",
    "        \n",
    "        for (minibatch_X, minibatch_Y) in minibatches:\n",
    "            \n",
    "            with tf.GradientTape() as tape:\n",
    "                # 1. predict\n",
    "                Z3 = forward_propagation(tf.transpose(minibatch_X), parameters)\n",
    "                \n",
    "                # 2. loss\n",
    "                minibatch_total_loss = compute_total_loss(Z3, tf.transpose(minibatch_Y))\n",
    "\n",
    "            # We accumulate the accuracy of all the batches\n",
    "            train_accuracy.update_state(minibatch_Y, tf.transpose(Z3))\n",
    "            \n",
    "            trainable_variables = [W1, b1, W2, b2, W3, b3]\n",
    "            grads = tape.gradient(minibatch_total_loss, trainable_variables)\n",
    "            optimizer.apply_gradients(zip(grads, trainable_variables))\n",
    "            epoch_total_loss += minibatch_total_loss\n",
    "        \n",
    "        # We divide the epoch total loss over the number of samples\n",
    "        epoch_total_loss /= m\n",
    "\n",
    "        # Print the cost every 10 epochs\n",
    "        if print_cost == True and epoch % 10 == 0:\n",
    "            print (\"Cost after epoch %i: %f\" % (epoch, epoch_total_loss))\n",
    "            print(\"Train accuracy:\", train_accuracy.result())\n",
    "            \n",
    "            # We evaluate the test set every 10 epochs to avoid computational overhead\n",
    "            for (minibatch_X, minibatch_Y) in test_minibatches:\n",
    "                Z3 = forward_propagation(tf.transpose(minibatch_X), parameters)\n",
    "                test_accuracy.update_state(minibatch_Y, tf.transpose(Z3))\n",
    "            print(\"Test_accuracy:\", test_accuracy.result())\n",
    "\n",
    "            costs.append(epoch_total_loss)\n",
    "            train_acc.append(train_accuracy.result())\n",
    "            test_acc.append(test_accuracy.result())\n",
    "            test_accuracy.reset_state()\n",
    "\n",
    "\n",
    "    return parameters, costs, train_acc, test_acc"
   ]
  },
  {
   "cell_type": "code",
   "execution_count": 116,
   "metadata": {},
   "outputs": [
    {
     "data": {
      "text/plain": [
       "<tf.Tensor: shape=(3000, 9), dtype=float32, numpy=\n",
       "array([[0., 1., 0., ..., 0., 0., 0.],\n",
       "       [0., 0., 0., ..., 0., 0., 0.],\n",
       "       [0., 0., 0., ..., 0., 0., 0.],\n",
       "       ...,\n",
       "       [0., 0., 0., ..., 0., 0., 0.],\n",
       "       [0., 0., 0., ..., 0., 0., 1.],\n",
       "       [0., 0., 0., ..., 0., 0., 0.]], dtype=float32)>"
      ]
     },
     "execution_count": 116,
     "metadata": {},
     "output_type": "execute_result"
    }
   ],
   "source": [
    "test_y = one_hot_matrix(train_labels, max(train_labels))\n",
    "test_y"
   ]
  },
  {
   "cell_type": "code",
   "execution_count": 117,
   "metadata": {},
   "outputs": [
    {
     "data": {
      "text/plain": [
       "<tf.Tensor: shape=(600, 9), dtype=float32, numpy=\n",
       "array([[0., 0., 0., ..., 0., 1., 0.],\n",
       "       [0., 0., 1., ..., 0., 0., 0.],\n",
       "       [0., 0., 0., ..., 0., 0., 0.],\n",
       "       ...,\n",
       "       [0., 0., 0., ..., 0., 0., 0.],\n",
       "       [0., 0., 0., ..., 0., 0., 0.],\n",
       "       [0., 0., 0., ..., 0., 0., 0.]], dtype=float32)>"
      ]
     },
     "execution_count": 117,
     "metadata": {},
     "output_type": "execute_result"
    }
   ],
   "source": [
    "train_y = one_hot_matrix(test_labels, max(test_labels))\n",
    "train_y"
   ]
  },
  {
   "cell_type": "code",
   "execution_count": 118,
   "metadata": {},
   "outputs": [],
   "source": [
    "train_y = tf.data.Dataset.from_tensor_slices(train_y)\n",
    "test_y = tf.data.Dataset.from_tensor_slices(test_y)"
   ]
  },
  {
   "cell_type": "code",
   "execution_count": 119,
   "metadata": {},
   "outputs": [],
   "source": [
    "# Convertendo os dados de treino e teste para float32\n",
    "train_x = train_x.map(lambda x: tf.cast(x, tf.float32))\n",
    "test_x = test_x.map(lambda x: tf.cast(x, tf.float32))"
   ]
  },
  {
   "cell_type": "code",
   "execution_count": 123,
   "metadata": {},
   "outputs": [
    {
     "name": "stdout",
     "output_type": "stream",
     "text": [
      "Cost after epoch 0: 70.677925\n",
      "Train accuracy: tf.Tensor(0.095, shape=(), dtype=float32)\n",
      "Test_accuracy: tf.Tensor(0.093333334, shape=(), dtype=float32)\n",
      "Cost after epoch 10: 4.296676\n",
      "Train accuracy: tf.Tensor(0.096666664, shape=(), dtype=float32)\n",
      "Test_accuracy: tf.Tensor(0.13166666, shape=(), dtype=float32)\n",
      "Cost after epoch 20: 2.583911\n",
      "Train accuracy: tf.Tensor(0.09833334, shape=(), dtype=float32)\n",
      "Test_accuracy: tf.Tensor(0.13166666, shape=(), dtype=float32)\n",
      "Cost after epoch 30: 2.296266\n",
      "Train accuracy: tf.Tensor(0.105, shape=(), dtype=float32)\n",
      "Test_accuracy: tf.Tensor(0.13333334, shape=(), dtype=float32)\n",
      "Cost after epoch 40: 2.154521\n",
      "Train accuracy: tf.Tensor(0.11, shape=(), dtype=float32)\n",
      "Test_accuracy: tf.Tensor(0.135, shape=(), dtype=float32)\n",
      "Cost after epoch 50: 2.086146\n",
      "Train accuracy: tf.Tensor(0.11, shape=(), dtype=float32)\n",
      "Test_accuracy: tf.Tensor(0.13666667, shape=(), dtype=float32)\n",
      "Cost after epoch 60: 2.046032\n",
      "Train accuracy: tf.Tensor(0.11, shape=(), dtype=float32)\n",
      "Test_accuracy: tf.Tensor(0.135, shape=(), dtype=float32)\n",
      "Cost after epoch 70: 2.009073\n",
      "Train accuracy: tf.Tensor(0.11, shape=(), dtype=float32)\n",
      "Test_accuracy: tf.Tensor(0.135, shape=(), dtype=float32)\n",
      "Cost after epoch 80: 1.993820\n",
      "Train accuracy: tf.Tensor(0.108333334, shape=(), dtype=float32)\n",
      "Test_accuracy: tf.Tensor(0.135, shape=(), dtype=float32)\n",
      "Cost after epoch 90: 1.989962\n",
      "Train accuracy: tf.Tensor(0.10666667, shape=(), dtype=float32)\n",
      "Test_accuracy: tf.Tensor(0.135, shape=(), dtype=float32)\n"
     ]
    }
   ],
   "source": [
    "parameters, costs, train_acc, test_acc = model(train_x, train_y, test_x, test_y, learning_rate=0.00001, num_epochs=100)"
   ]
  },
  {
   "cell_type": "code",
   "execution_count": 124,
   "metadata": {},
   "outputs": [
    {
     "data": {
      "image/png": "[encoded data removed]",
      "text/plain": [
       "<Figure size 640x480 with 1 Axes>"
      ]
     },
     "metadata": {},
     "output_type": "display_data"
    }
   ],
   "source": [
    "# Plot the cost\n",
    "plt.plot(np.squeeze(costs))\n",
    "plt.ylabel('cost')\n",
    "plt.xlabel('iterations (per fives)')\n",
    "plt.title(\"Learning rate =\" + str(0.0001))\n",
    "plt.show()\n"
   ]
  },
  {
   "cell_type": "code",
   "execution_count": 125,
   "metadata": {},
   "outputs": [
    {
     "data": {
      "image/png": "[encoded data removed]",
      "text/plain": [
       "<Figure size 640x480 with 1 Axes>"
      ]
     },
     "metadata": {},
     "output_type": "display_data"
    }
   ],
   "source": [
    "# Plot the train accuracy\n",
    "plt.plot(np.squeeze(train_acc))\n",
    "plt.ylabel('Train Accuracy')\n",
    "plt.xlabel('iterations (per fives)')\n",
    "plt.title(\"Learning rate =\" + str(0.0001))\n",
    "# Plot the test accuracy\n",
    "plt.plot(np.squeeze(test_acc))\n",
    "plt.ylabel('Test Accuracy')\n",
    "plt.xlabel('iterations (per fives)')\n",
    "plt.title(\"Learning rate =\" + str(0.0001))\n",
    "plt.show()\n"
   ]
  }
 ],
 "metadata": {
  "kernelspec": {
   "display_name": "Python 3",
   "language": "python",
   "name": "python3"
  },
  "language_info": {
   "codemirror_mode": {
    "name": "ipython",
    "version": 3
   },
   "file_extension": ".py",
   "mimetype": "text/x-python",
   "name": "python",
   "nbconvert_exporter": "python",
   "pygments_lexer": "ipython3",
   "version": "3.11.9"
  }
 },
 "nbformat": 4,
 "nbformat_minor": 2
}
